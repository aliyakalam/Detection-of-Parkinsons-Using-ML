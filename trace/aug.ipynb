{
 "cells": [
  {
   "cell_type": "code",
   "execution_count": 1,
   "metadata": {},
   "outputs": [
    {
     "name": "stdout",
     "output_type": "stream",
     "text": [
      "Error loading image .DS_Store: cannot identify image file 'MeanderPatients\\\\.DS_Store'\n"
     ]
    }
   ],
   "source": [
    "from keras.preprocessing.image import ImageDataGenerator\n",
    "from keras.utils import array_to_img, img_to_array, load_img \n",
    "import os\n",
    "from PIL import Image\n",
    "\n",
    "# Initialising the ImageDataGenerator class. \n",
    "# We will pass in the augmentation parameters in the constructor. \n",
    "datagen = ImageDataGenerator( \n",
    "        vertical_flip=True,\n",
    "        horizontal_flip = True, \n",
    "    ) \n",
    "inputShape = (224, 224)\n",
    "    \n",
    "# Loading a sample image\n",
    "for filename in os.listdir('MeanderPatients'):\n",
    "    try:\n",
    "        image_path = os.path.join('MeanderPatients', filename)\n",
    "        with Image.open(image_path) as image:\n",
    "    # Converting the input sample image to an array \n",
    "            x = img_to_array(image) \n",
    "    # Reshaping the input image \n",
    "            x = x.reshape((1, ) + x.shape)  \n",
    "   \n",
    "    # Generating and saving 5 augmented samples  \n",
    "    # using the above defined parameters.  \n",
    "            i = 0\n",
    "            for batch in datagen.flow(x, batch_size = 1, \n",
    "                              save_to_dir ='PatientMeanderwithAug',  \n",
    "                               save_format ='jpeg'): \n",
    "                i += 1\n",
    "                if i > 3: \n",
    "                    break\n",
    "    except Exception as e:\n",
    "        print(f\"Error loading image {filename}: {e}\") "
   ]
  },
  {
   "cell_type": "code",
   "execution_count": 2,
   "metadata": {},
   "outputs": [
    {
     "name": "stdout",
     "output_type": "stream",
     "text": [
      "Error loading image .DS_Store: cannot identify image file 'MeanderControl\\\\.DS_Store'\n"
     ]
    }
   ],
   "source": [
    "from keras.preprocessing.image import ImageDataGenerator\n",
    "from keras.utils import array_to_img, img_to_array, load_img \n",
    "import os\n",
    "from PIL import Image\n",
    "\n",
    "# Initialising the ImageDataGenerator class. \n",
    "# We will pass in the augmentation parameters in the constructor. \n",
    "datagen = ImageDataGenerator( \n",
    "        vertical_flip=True,\n",
    "        horizontal_flip = True, \n",
    "    ) \n",
    "inputShape = (224, 224)\n",
    "    \n",
    "# Loading a sample image\n",
    "for filename in os.listdir('MeanderControl'):\n",
    "    try:\n",
    "        image_path = os.path.join('MeanderControl', filename)\n",
    "        with Image.open(image_path) as image:\n",
    "    # Converting the input sample image to an array \n",
    "            x = img_to_array(image) \n",
    "    # Reshaping the input image \n",
    "            x = x.reshape((1, ) + x.shape)  \n",
    "   \n",
    "    # Generating and saving 5 augmented samples  \n",
    "    # using the above defined parameters.  \n",
    "            i = 0\n",
    "            for batch in datagen.flow(x, batch_size = 1, \n",
    "                              save_to_dir ='HealthyMeanderwithAug',  \n",
    "                               save_format ='jpeg'): \n",
    "                i += 1\n",
    "                if i > 3: \n",
    "                    break\n",
    "    except Exception as e:\n",
    "        print(f\"Error loading image {filename}: {e}\") "
   ]
  }
 ],
 "metadata": {
  "kernelspec": {
   "display_name": "Python 3",
   "language": "python",
   "name": "python3"
  },
  "language_info": {
   "codemirror_mode": {
    "name": "ipython",
    "version": 3
   },
   "file_extension": ".py",
   "mimetype": "text/x-python",
   "name": "python",
   "nbconvert_exporter": "python",
   "pygments_lexer": "ipython3",
   "version": "3.11.3"
  },
  "orig_nbformat": 4
 },
 "nbformat": 4,
 "nbformat_minor": 2
}
